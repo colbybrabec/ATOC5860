{
 "cells": [
  {
   "cell_type": "markdown",
   "metadata": {},
   "source": [
    "# ATOC5860 - ftest - Lecture #3\n",
    "##### Coded and Munged by Prof. Jen Kay (CU)\n",
    "##### Last updated: January 30, 2023"
   ]
  },
  {
   "cell_type": "code",
   "execution_count": 1,
   "metadata": {},
   "outputs": [],
   "source": [
    "### GENERAL SETUP\n",
    "%matplotlib inline  \n",
    "# this enables plotting within notebook\n",
    "\n",
    "import matplotlib   # library for plotting\n",
    "import matplotlib.pyplot as plt #  later you will type plt.$COMMAND\n",
    "import numpy as np   # basic math library  you will type np.$STUFF  e.g., np.cos(1)\n",
    "import pandas as pd  # library for data analysis for text files (everything but netcdf files)\n",
    "import scipy.stats as stats # imports stats functions https://docs.scipy.org/doc/scipy/reference/stats.html \n",
    "import xarray as xr # use for slick netcdf data analysis"
   ]
  },
  {
   "cell_type": "code",
   "execution_count": 2,
   "metadata": {},
   "outputs": [],
   "source": [
    "### global mean temperature from the CESM1 1850 control run\n",
    "ds1=xr.open_dataset(\"TS_timeseries_cesmle_1850.nc\")\n",
    "data=ds1[\"gts_annual\"]"
   ]
  },
  {
   "cell_type": "code",
   "execution_count": 3,
   "metadata": {},
   "outputs": [
    {
     "name": "stdout",
     "output_type": "stream",
     "text": [
      "[286.95007 286.96375 287.027   ... 287.00504 287.17413 287.1163 ]\n",
      "<xarray.DataArray 'year' (year: 1801)>\n",
      "array([   1,    2,    3, ..., 1799, 1800, 1801], dtype=int32)\n",
      "Coordinates:\n",
      "  * year     (year) int32 1 2 3 4 5 6 7 8 ... 1795 1796 1797 1798 1799 1800 1801\n"
     ]
    }
   ],
   "source": [
    "print(data.values)\n",
    "print(data.year)"
   ]
  },
  {
   "cell_type": "code",
   "execution_count": 4,
   "metadata": {},
   "outputs": [
    {
     "name": "stdout",
     "output_type": "stream",
     "text": [
      "(1801,)\n",
      "(1801,)\n"
     ]
    },
    {
     "data": {
      "image/png": "[encoded data removed]",
      "text/plain": [
       "<Figure size 432x288 with 1 Axes>"
      ]
     },
     "metadata": {
      "needs_background": "light"
     },
     "output_type": "display_data"
    }
   ],
   "source": [
    "### Let's make a plot of the data... Remember \"Look at your data\"!!\n",
    "year=data.year\n",
    "print(year.shape)\n",
    "print(data.shape)\n",
    "\n",
    "plt.plot(year, data);\n",
    "plt.xlabel('Year');\n",
    "plt.ylabel('Global Mean Temperature (K)');"
   ]
  },
  {
   "cell_type": "code",
   "execution_count": 5,
   "metadata": {},
   "outputs": [
    {
     "name": "stdout",
     "output_type": "stream",
     "text": [
      "<xarray.DataArray 'year' (year: 100)>\n",
      "array([  1,   2,   3,   4,   5,   6,   7,   8,   9,  10,  11,  12,  13,  14,\n",
      "        15,  16,  17,  18,  19,  20,  21,  22,  23,  24,  25,  26,  27,  28,\n",
      "        29,  30,  31,  32,  33,  34,  35,  36,  37,  38,  39,  40,  41,  42,\n",
      "        43,  44,  45,  46,  47,  48,  49,  50,  51,  52,  53,  54,  55,  56,\n",
      "        57,  58,  59,  60,  61,  62,  63,  64,  65,  66,  67,  68,  69,  70,\n",
      "        71,  72,  73,  74,  75,  76,  77,  78,  79,  80,  81,  82,  83,  84,\n",
      "        85,  86,  87,  88,  89,  90,  91,  92,  93,  94,  95,  96,  97,  98,\n",
      "        99, 100], dtype=int32)\n",
      "Coordinates:\n",
      "  * year     (year) int32 1 2 3 4 5 6 7 8 9 10 ... 92 93 94 95 96 97 98 99 100\n",
      "<xarray.DataArray 'year' (year: 100)>\n",
      "array([501, 502, 503, 504, 505, 506, 507, 508, 509, 510, 511, 512, 513, 514,\n",
      "       515, 516, 517, 518, 519, 520, 521, 522, 523, 524, 525, 526, 527, 528,\n",
      "       529, 530, 531, 532, 533, 534, 535, 536, 537, 538, 539, 540, 541, 542,\n",
      "       543, 544, 545, 546, 547, 548, 549, 550, 551, 552, 553, 554, 555, 556,\n",
      "       557, 558, 559, 560, 561, 562, 563, 564, 565, 566, 567, 568, 569, 570,\n",
      "       571, 572, 573, 574, 575, 576, 577, 578, 579, 580, 581, 582, 583, 584,\n",
      "       585, 586, 587, 588, 589, 590, 591, 592, 593, 594, 595, 596, 597, 598,\n",
      "       599, 600], dtype=int32)\n",
      "Coordinates:\n",
      "  * year     (year) int32 501 502 503 504 505 506 ... 595 596 597 598 599 600\n",
      "(100,)\n",
      "(100,)\n"
     ]
    }
   ],
   "source": [
    "## We want to test if the variance for years 1-100 differs from the variance for years 501-600\n",
    "## Create two variables (data1, data2) to calculate statistics from these two periods\n",
    "\n",
    "data1=data.sel(year=slice(1,100)) #years 1-100\n",
    "data2=data.sel(year=slice(501,600))#years 501-600\n",
    "print(data1.year)\n",
    "print(data2.year)\n",
    "print(data1.shape)\n",
    "print(data2.shape)"
   ]
  },
  {
   "cell_type": "code",
   "execution_count": 6,
   "metadata": {},
   "outputs": [
    {
     "name": "stdout",
     "output_type": "stream",
     "text": [
      "Sample1 mean 1920-1963:  287.06\n",
      "Sample2 mean 1963-2006:  287.12\n",
      "Sample1 std 1920-1963:  0.11\n",
      "Sample2 std 1963-2006:  0.12\n",
      "Sample1 N 1920-1963:  100\n",
      "Sample2 N 1963-2006:  100\n"
     ]
    }
   ],
   "source": [
    "### calculate mean, std, and N for each period\n",
    "sample_mean1=data1.mean()\n",
    "sample_mean2=data2.mean()\n",
    "sample_std1=data1.std()\n",
    "sample_std2=data2.std()\n",
    "N1=len(data1)\n",
    "N2=len(data2)\n",
    "print('Sample1 mean 1920-1963: ',np.round(sample_mean1.values,2))\n",
    "print('Sample2 mean 1963-2006: ',np.round(sample_mean2.values,2))\n",
    "print('Sample1 std 1920-1963: ',np.round(sample_std1.values,2))\n",
    "print('Sample2 std 1963-2006: ',np.round(sample_std2.values,2))\n",
    "print('Sample1 N 1920-1963: ',np.round(N1,2))\n",
    "print('Sample2 N 1963-2006: ',np.round(N2,2))"
   ]
  },
  {
   "cell_type": "code",
   "execution_count": 7,
   "metadata": {},
   "outputs": [
    {
     "name": "stdout",
     "output_type": "stream",
     "text": [
      "1.5343\n",
      "1.8496\n"
     ]
    }
   ],
   "source": [
    "## First we will test the python function to make sure we get the same value as in the f-table in Barnes.  \n",
    "## F-distribution critical value for alpha=0.05, numerator DF=denominator DF = 60.  \n",
    "## we should get fcrit=1.5343.  Looks good!\n",
    "fcrit_test = stats.f.ppf(q = 0.95, dfn = 60, dfd = 60)\n",
    "print(np.round(fcrit_test,4))\n",
    "\n",
    "fcrit_test = stats.f.ppf(q = 0.95, dfn = 10, dfd = 500)\n",
    "print(np.round(fcrit_test,4))\n",
    "\n",
    "\n",
    "\n",
    "# q: The significance level to use\n",
    "\n",
    "# dfn: The numerator degrees of freedom\n",
    "\n",
    "# dfd: The denominator degrees of freedom\n"
   ]
  },
  {
   "cell_type": "code",
   "execution_count": 8,
   "metadata": {},
   "outputs": [
    {
     "name": "stdout",
     "output_type": "stream",
     "text": [
      "fcrit: 1.394\n",
      "f: 1.215\n",
      "SUMMARY: f<fcrit so we cannot reject our null hypothesis that period1 and period2 have the same variance\n"
     ]
    }
   ],
   "source": [
    "### Hypothesis testing\n",
    "# Step #1: State significance level. alpha=0.05; 95% confidence\n",
    "# Step #2: Null Hypothesis -- The standard deviation for period 1 (1920-1963) and period 2 (1963-2006) are the same.\n",
    "# Step #3: We will use the f-statistic.  We will assume data1 and data2 come from normal populations having the same\n",
    "# true variance.\n",
    "# Step #4: Find critical value to exceed to reject the null hypothsis (fcrit)\n",
    "# Now find the critical f value for our problem.  If our calculated F statistic is less than fcrit - \n",
    "# we fail to reject our null hypothesis\n",
    "\n",
    "# STEP 4: FIND F CRIT\n",
    "fcrit = stats.f.ppf(q = 0.95, dfn = N1-1, dfd = N2-1)\n",
    "print(f'fcrit: {np.round(fcrit,3)}')\n",
    "\n",
    "# Step #5: Calculate f statistic \n",
    "## NOTE - the larger variance always goes on TOP, the smaller variance always goes on BOTTOM.\n",
    "## More info here: http://staff.washington.edu/tabrooks/599.course/Ftest.html and at \n",
    "## The F test for variances - An Explanation.pdf (Notes included with this lecture).\n",
    "## In this case sample_std2 > sample_std1 -- so sample_std2 goes on the top, sample_std1 on the bottom.\n",
    "\n",
    "# STEP 5: CALCULATE F STAT\n",
    "f=sample_std2**2/sample_std1**2\n",
    "print(f'f: {np.round(f.values,3)}')\n",
    "\n",
    "### Assess findings. \n",
    "if f<fcrit:\n",
    "    print('SUMMARY: f<fcrit so we cannot reject our null hypothesis that period1 and period2 have the same variance')\n",
    "elif f>fcrit:\n",
    "    print('SUMMARY: f>fcrit so we can reject our null hypothesis that period1 and period2 have the same variance')"
   ]
  },
  {
   "cell_type": "code",
   "execution_count": null,
   "metadata": {},
   "outputs": [],
   "source": []
  },
  {
   "cell_type": "code",
   "execution_count": null,
   "metadata": {},
   "outputs": [],
   "source": []
  },
  {
   "cell_type": "code",
   "execution_count": null,
   "metadata": {},
   "outputs": [],
   "source": []
  },
  {
   "cell_type": "code",
   "execution_count": null,
   "metadata": {},
   "outputs": [],
   "source": []
  },
  {
   "cell_type": "code",
   "execution_count": null,
   "metadata": {},
   "outputs": [],
   "source": []
  }
 ],
 "metadata": {
  "kernelspec": {
   "display_name": "Python 3 (ipykernel)",
   "language": "python",
   "name": "python3"
  },
  "language_info": {
   "codemirror_mode": {
    "name": "ipython",
    "version": 3
   },
   "file_extension": ".py",
   "mimetype": "text/x-python",
   "name": "python",
   "nbconvert_exporter": "python",
   "pygments_lexer": "ipython3",
   "version": "3.9.12"
  }
 },
 "nbformat": 4,
 "nbformat_minor": 2
}
